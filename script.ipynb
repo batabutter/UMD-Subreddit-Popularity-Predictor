{
 "cells": [
  {
   "cell_type": "markdown",
   "id": "ea9c3e17",
   "metadata": {},
   "source": [
    "#Import the newest posts and store data in a separate file"
   ]
  },
  {
   "cell_type": "code",
   "execution_count": 22,
   "id": "1752264b",
   "metadata": {},
   "outputs": [],
   "source": [
    "import requests\n",
    "import pandas as pd\n",
    "import json\n",
    "\n",
    "CLIENT_ID = '0SVd1VBTNgtpN7b-IA31Dw'\n",
    "SECRET_KEY = 'T5oxXIdKpNTX0Z4Fy0rpyX3MeQFrXg'\n",
    "\n",
    "auth = requests.auth.HTTPBasicAuth(CLIENT_ID, SECRET_KEY)\n",
    "\n",
    "with open('pw.txt', 'r') as f:\n",
    "    username = f.readline()\n",
    "    pw = f.readline()\n",
    "    \n",
    "    \n",
    "data = {\n",
    "    'grant_type' : 'password',\n",
    "    'username' : username,\n",
    "    'password' : pw\n",
    "}\n",
    "headers = {'User-Agent': 'MyAPI/0.0.1'}\n",
    "\n",
    "res = requests.post('https://www.reddit.com/api/v1/access_token',\n",
    "                    auth=auth, data=data, headers=headers)\n",
    "TOKEN = res.json()['access_token']\n",
    "\n",
    "headers['Authorization'] = f'bearer {TOKEN}'\n",
    "\n",
    "# Obtain 100 of the newest posts \n",
    "params = {\n",
    "    'limit': 100\n",
    "    }\n",
    "res = requests.get('http://oauth.reddit.com/r/umd/new/',\n",
    "                 headers = headers, params=params)\n",
    "df = pd.DataFrame()\n",
    "\n",
    "for post in res.json()['data']['children']:\n",
    "    df = df._append({\n",
    "        'title': post['data']['title'],\n",
    "        'upvotes': post['data']['ups'],\n",
    "        'downvotes':post['data']['downs'],\n",
    "        'flair': post['data']['link_flair_text']\n",
    "        \n",
    "    }, ignore_index=True)\n",
    "\n",
    "df.to_csv(path_or_buf='umdtoppostsdata', mode = 'w', index = False)"
   ]
  }
 ],
 "metadata": {
  "kernelspec": {
   "display_name": ".venv",
   "language": "python",
   "name": "python3"
  },
  "language_info": {
   "codemirror_mode": {
    "name": "ipython",
    "version": 3
   },
   "file_extension": ".py",
   "mimetype": "text/x-python",
   "name": "python",
   "nbconvert_exporter": "python",
   "pygments_lexer": "ipython3",
   "version": "3.13.3"
  }
 },
 "nbformat": 4,
 "nbformat_minor": 5
}
